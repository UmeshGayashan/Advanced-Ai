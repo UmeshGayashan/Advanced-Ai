{
  "cells": [
    {
      "cell_type": "markdown",
      "metadata": {
        "id": "view-in-github",
        "colab_type": "text"
      },
      "source": [
        "<a href=\"https://colab.research.google.com/github/UmeshGayashan/Advanced-Ai/blob/main/M1_S1.ipynb\" target=\"_parent\"><img src=\"https://colab.research.google.com/assets/colab-badge.svg\" alt=\"Open In Colab\"/></a>"
      ]
    },
    {
      "cell_type": "markdown",
      "id": "06e1b818-a81c-4a4d-bb32-b750412b3c99",
      "metadata": {
        "id": "06e1b818-a81c-4a4d-bb32-b750412b3c99"
      },
      "source": [
        "## Word Tokenization exercise"
      ]
    },
    {
      "cell_type": "code",
      "execution_count": null,
      "id": "3436e9b3-c5bd-453d-b000-b7846fb46bfc",
      "metadata": {
        "id": "3436e9b3-c5bd-453d-b000-b7846fb46bfc"
      },
      "outputs": [],
      "source": [
        "import warnings\n",
        "warnings.filterwarnings('ignore')"
      ]
    },
    {
      "cell_type": "code",
      "execution_count": null,
      "id": "10538526-d4e6-4732-9fbd-10c820bfa498",
      "metadata": {
        "id": "10538526-d4e6-4732-9fbd-10c820bfa498",
        "outputId": "6c722ec0-1394-4fc2-9527-c72882868bab",
        "colab": {
          "base_uri": "https://localhost:8080/"
        }
      },
      "outputs": [
        {
          "output_type": "stream",
          "name": "stderr",
          "text": [
            "[nltk_data] Downloading package punkt_tab to /root/nltk_data...\n"
          ]
        },
        {
          "output_type": "stream",
          "name": "stdout",
          "text": [
            "Original Text:\n",
            "Sri Lanka is a beautiful country in the world , and University of Ruhuna is a one of the beautiful places in the country.  \n",
            "\n",
            "Word Tokens:\n",
            "['Sri', 'Lanka', 'is', 'a', 'beautiful', 'country', 'in', 'the', 'world', ',', 'and', 'University', 'of', 'Ruhuna', 'is', 'a', 'one', 'of', 'the', 'beautiful', 'places', 'in', 'the', 'country', '.']\n"
          ]
        },
        {
          "output_type": "stream",
          "name": "stderr",
          "text": [
            "[nltk_data]   Unzipping tokenizers/punkt_tab.zip.\n",
            "[nltk_data] Downloading package punkt to /root/nltk_data...\n",
            "[nltk_data]   Package punkt is already up-to-date!\n"
          ]
        }
      ],
      "source": [
        "import nltk\n",
        "nltk.download('punkt_tab')\n",
        "\n",
        "from nltk.tokenize import word_tokenize\n",
        "import matplotlib as plt\n",
        "\n",
        "# Ensure the necessary NLTK data is downloaded\n",
        "nltk.download('punkt')\n",
        "\n",
        "# Sample text\n",
        "text = \"Sri Lanka is a beautiful country in the world , and University of Ruhuna is a one of the beautiful places in the country.  \"\n",
        "\n",
        "# Perform word tokenization\n",
        "tokens = word_tokenize(text)\n",
        "\n",
        "# Display the tokens\n",
        "print(\"Original Text:\")\n",
        "print(text)\n",
        "print(\"\\nWord Tokens:\")\n",
        "print(tokens)\n"
      ]
    },
    {
      "cell_type": "markdown",
      "id": "0dd8d573-7236-4c2f-a0a3-665438be9294",
      "metadata": {
        "id": "0dd8d573-7236-4c2f-a0a3-665438be9294"
      },
      "source": [
        "### Analyze the most common words in the sentence and the probability distribution of them"
      ]
    },
    {
      "cell_type": "code",
      "execution_count": null,
      "id": "8bff2543-6527-4a8e-ac71-422c9a872f90",
      "metadata": {
        "id": "8bff2543-6527-4a8e-ac71-422c9a872f90",
        "colab": {
          "base_uri": "https://localhost:8080/",
          "height": 514
        },
        "outputId": "196c760b-3d13-4d4f-8003-508837d7e508"
      },
      "outputs": [
        {
          "output_type": "stream",
          "name": "stdout",
          "text": [
            "[('the', 3), ('is', 2), ('a', 2), ('beautiful', 2), ('country', 2), ('in', 2), ('of', 2), ('Sri', 1), ('Lanka', 1), ('world', 1)]\n"
          ]
        },
        {
          "output_type": "display_data",
          "data": {
            "text/plain": [
              "<Figure size 640x480 with 1 Axes>"
            ],
            "image/png": "[encoded data removed]"
          },
          "metadata": {}
        }
      ],
      "source": [
        "import matplotlib.pyplot as plt\n",
        "from nltk.probability import FreqDist\n",
        "fd = FreqDist(tokens)\n",
        "print(fd.most_common(10))\n",
        "fd.plot(10,cumulative=False)\n",
        "plt.show()\n"
      ]
    },
    {
      "cell_type": "markdown",
      "id": "ac17199d-4e7a-4828-8c25-ba10737b9ad8",
      "metadata": {
        "id": "ac17199d-4e7a-4828-8c25-ba10737b9ad8"
      },
      "source": [
        "#"
      ]
    },
    {
      "cell_type": "markdown",
      "id": "9d54c15f-c9d1-405d-a8c4-60378936e9e9",
      "metadata": {
        "id": "9d54c15f-c9d1-405d-a8c4-60378936e9e9"
      },
      "source": [
        "## Sentence Tokenization Exercise"
      ]
    },
    {
      "cell_type": "code",
      "execution_count": null,
      "id": "20092de9-1364-4e8f-8a82-75e6dc7680d9",
      "metadata": {
        "id": "20092de9-1364-4e8f-8a82-75e6dc7680d9",
        "colab": {
          "base_uri": "https://localhost:8080/"
        },
        "outputId": "bab746e5-40b4-4c48-8f86-ce1e4cff041d"
      },
      "outputs": [
        {
          "output_type": "stream",
          "name": "stdout",
          "text": [
            "Original Text:\n",
            "Natural Language Processing (NLP) is an exciting field of Artificial Intelligence.\n",
            "It enables machines to understand human language and text. This technology powers applications like chatbots,\n",
            "machine translation, and sentiment analysis.\n",
            "\n",
            "Tokenized Sentences:\n",
            "1: Natural Language Processing (NLP) is an exciting field of Artificial Intelligence.\n",
            "2: It enables machines to understand human language and text.\n",
            "3: This technology powers applications like chatbots,\n",
            "machine translation, and sentiment analysis.\n"
          ]
        },
        {
          "output_type": "stream",
          "name": "stderr",
          "text": [
            "[nltk_data] Downloading package punkt to /root/nltk_data...\n",
            "[nltk_data]   Package punkt is already up-to-date!\n"
          ]
        }
      ],
      "source": [
        "import nltk\n",
        "from nltk.tokenize import sent_tokenize\n",
        "\n",
        "# Ensure the required NLTK data is downloaded\n",
        "nltk.download('punkt')\n",
        "\n",
        "# Example text for sentence tokenization\n",
        "text = \"\"\"Natural Language Processing (NLP) is an exciting field of Artificial Intelligence.\n",
        "It enables machines to understand human language and text. This technology powers applications like chatbots,\n",
        "machine translation, and sentiment analysis.\"\"\"\n",
        "\n",
        "# Perform sentence tokenization\n",
        "sentences = sent_tokenize(text)\n",
        "\n",
        "# Display the original text and tokenized sentences\n",
        "print(\"Original Text:\")\n",
        "print(text)\n",
        "print(\"\\nTokenized Sentences:\")\n",
        "for idx, sentence in enumerate(sentences, 1):\n",
        "    print(f\"{idx}: {sentence}\")\n"
      ]
    },
    {
      "cell_type": "markdown",
      "id": "e08bd19d-8785-49d6-9b37-1fdc4dcfdd3d",
      "metadata": {
        "id": "e08bd19d-8785-49d6-9b37-1fdc4dcfdd3d"
      },
      "source": [
        "## Remove Stop words"
      ]
    },
    {
      "cell_type": "code",
      "execution_count": null,
      "id": "aaa3dc7a-ab18-4e31-85a2-e7592f9d1359",
      "metadata": {
        "id": "aaa3dc7a-ab18-4e31-85a2-e7592f9d1359",
        "colab": {
          "base_uri": "https://localhost:8080/"
        },
        "outputId": "4bc8687e-3c5a-4d27-f704-fbac4198db7d"
      },
      "outputs": [
        {
          "output_type": "stream",
          "name": "stdout",
          "text": [
            "\n",
            "Words Removed (Stop Words): {'is', 'about', 'on', 'a', 'the', 'its', 'The', 'just', 'than', 'in', 'off', 'and', 'has', 'an', 'On', 'to', 'of'}\n",
            "\n",
            "Original Tokens: ['Sri', 'Lanka', 'is', 'an', 'island', 'nation', 'located', 'in', 'the', 'Indian', 'Ocean', ',', 'just', 'off', 'the', 'southeastern', 'coast', 'of', 'India', '.', 'Despite', 'its', 'modest', 'size—slightly', 'larger', 'than', 'the', 'state', 'of', 'West', 'Virginia—Sri', 'Lanka', 'has', 'a', 'population', 'of', 'about', '20', 'million', 'people', ',', 'almost', 'equal', 'to', 'the', 'population', 'of', 'Texas', '.', 'The', 'island', 'is', 'rich', 'in', 'natural', 'resources', ',', 'and', 'has', 'a', 'diverse', 'economy', 'based', 'on', 'agriculture', ',', 'mining', ',', 'fishing', ',', 'manufacturing', ',', 'and', 'tourism', '.', 'On', 'becoming', 'an', 'independent', 'nation', 'in', '1948', 'Sri', 'Lanka']\n",
            "\n",
            "Tokens without Stop Words: ['Sri', 'Lanka', 'island', 'nation', 'located', 'Indian', 'Ocean', ',', 'southeastern', 'coast', 'India', '.', 'Despite', 'modest', 'size—slightly', 'larger', 'state', 'West', 'Virginia—Sri', 'Lanka', 'population', '20', 'million', 'people', ',', 'almost', 'equal', 'population', 'Texas', '.', 'island', 'rich', 'natural', 'resources', ',', 'diverse', 'economy', 'based', 'agriculture', ',', 'mining', ',', 'fishing', ',', 'manufacturing', ',', 'tourism', '.', 'becoming', 'independent', 'nation', '1948', 'Sri', 'Lanka']\n"
          ]
        },
        {
          "output_type": "stream",
          "name": "stderr",
          "text": [
            "[nltk_data] Downloading package stopwords to /root/nltk_data...\n",
            "[nltk_data]   Package stopwords is already up-to-date!\n",
            "[nltk_data] Downloading package punkt to /root/nltk_data...\n",
            "[nltk_data]   Package punkt is already up-to-date!\n"
          ]
        }
      ],
      "source": [
        "import nltk\n",
        "\n",
        "# Download necessary NLTK data files\n",
        "nltk.download('stopwords')\n",
        "nltk.download('punkt')\n",
        "\n",
        "from nltk.corpus import stopwords\n",
        "\n",
        "# Input text\n",
        "text = \"\"\"Sri Lanka is an island nation located in the Indian Ocean, just off the southeastern coast of India.\n",
        "Despite its modest size—slightly larger than the state of West Virginia—Sri Lanka has a population of about 20 million people,\n",
        "almost equal to the population of Texas. The island is rich in natural resources, and has a diverse economy based on agriculture,\n",
        "mining, fishing, manufacturing, and tourism. On becoming an independent nation in 1948 Sri Lanka\"\"\"\n",
        "\n",
        "# Define stop words\n",
        "stop_words_set = set(stopwords.words('english'))\n",
        "\n",
        "# Tokenize text\n",
        "tokenized_words = nltk.word_tokenize(text)\n",
        "\n",
        "# Remove stop words\n",
        "tokenized_words_no_stop_words = [word for word in tokenized_words if word.lower() not in stop_words_set]\n",
        "\n",
        "# Outputs\n",
        "#print(\"Stop Words List:\", stop_words_set)  # Show the list of stop words\n",
        "print(\"\\nWords Removed (Stop Words):\", set(tokenized_words) - set(tokenized_words_no_stop_words))  # Show removed words\n",
        "print(\"\\nOriginal Tokens:\", tokenized_words)  # Show original tokenized words\n",
        "print(\"\\nTokens without Stop Words:\", tokenized_words_no_stop_words)  # Show cleaned tokens"
      ]
    },
    {
      "cell_type": "markdown",
      "id": "a59e410f-0f69-491e-84f3-246b52dda828",
      "metadata": {
        "id": "a59e410f-0f69-491e-84f3-246b52dda828"
      },
      "source": [
        "#  Stemming and Lemmatization"
      ]
    },
    {
      "cell_type": "code",
      "execution_count": null,
      "id": "5750ee7a-5479-4e1e-b988-9ad507083afc",
      "metadata": {
        "id": "5750ee7a-5479-4e1e-b988-9ad507083afc",
        "colab": {
          "base_uri": "https://localhost:8080/"
        },
        "outputId": "a733696e-ea60-4596-ef7a-4687cefc1e59"
      },
      "outputs": [
        {
          "output_type": "stream",
          "name": "stderr",
          "text": [
            "[nltk_data] Downloading package punkt to /root/nltk_data...\n",
            "[nltk_data]   Package punkt is already up-to-date!\n",
            "[nltk_data] Downloading package wordnet to /root/nltk_data...\n",
            "[nltk_data] Downloading package omw-1.4 to /root/nltk_data...\n"
          ]
        },
        {
          "output_type": "stream",
          "name": "stdout",
          "text": [
            "Original Words:\n",
            " ['Sri', 'Lanka', 'is', 'an', 'island', 'nation', 'located', 'in', 'the', 'Indian', 'Ocean', '.', 'Despite', 'its', 'modest', 'size', ',', 'it', 'has', 'a', 'diverse', 'economy', 'based', 'on', 'agriculture', ',', 'mining', ',', 'and', 'tourism', '.']\n",
            "\n",
            "Stemmed Words:\n",
            " ['sri', 'lanka', 'is', 'an', 'island', 'nation', 'locat', 'in', 'the', 'indian', 'ocean', '.', 'despit', 'it', 'modest', 'size', ',', 'it', 'ha', 'a', 'divers', 'economi', 'base', 'on', 'agricultur', ',', 'mine', ',', 'and', 'tourism', '.']\n",
            "\n",
            "Lemmatized Words (default POS=noun):\n",
            " ['Sri', 'Lanka', 'is', 'an', 'island', 'nation', 'located', 'in', 'the', 'Indian', 'Ocean', '.', 'Despite', 'it', 'modest', 'size', ',', 'it', 'ha', 'a', 'diverse', 'economy', 'based', 'on', 'agriculture', ',', 'mining', ',', 'and', 'tourism', '.']\n"
          ]
        }
      ],
      "source": [
        "import nltk\n",
        "from nltk.stem import PorterStemmer, WordNetLemmatizer\n",
        "from nltk.tokenize import word_tokenize\n",
        "from nltk.corpus import wordnet\n",
        "\n",
        "# Download necessary NLTK data files\n",
        "nltk.download('punkt')\n",
        "nltk.download('wordnet')\n",
        "nltk.download('omw-1.4')  # For better lemmatizer results\n",
        "\n",
        "# Input text\n",
        "text = \"\"\"Sri Lanka is an island nation located in the Indian Ocean.\n",
        "Despite its modest size, it has a diverse economy based on agriculture, mining, and tourism.\"\"\"\n",
        "\n",
        "# Tokenize the text\n",
        "tokenized_words = word_tokenize(text)\n",
        "\n",
        "# Initialize the Porter Stemmer and WordNet Lemmatizer\n",
        "stemmer = PorterStemmer()\n",
        "lemmatizer = WordNetLemmatizer()\n",
        "\n",
        "# Perform Stemming\n",
        "stemmed_words = [stemmer.stem(word) for word in tokenized_words]\n",
        "\n",
        "# Perform Lemmatization (default POS is 'n' for nouns)\n",
        "lemmatized_words = [lemmatizer.lemmatize(word) for word in tokenized_words]\n",
        "\n",
        "\n",
        "# Display Results\n",
        "print(\"Original Words:\\n\", tokenized_words)\n",
        "print(\"\\nStemmed Words:\\n\", stemmed_words)\n",
        "print(\"\\nLemmatized Words (default POS=noun):\\n\", lemmatized_words)\n",
        "\n"
      ]
    },
    {
      "cell_type": "markdown",
      "id": "58003101-0e52-4d71-b590-31e1e5bf32de",
      "metadata": {
        "id": "58003101-0e52-4d71-b590-31e1e5bf32de"
      },
      "source": [
        "#"
      ]
    },
    {
      "cell_type": "markdown",
      "id": "681396b3-aa60-4b82-bdc3-b7d448b4f910",
      "metadata": {
        "id": "681396b3-aa60-4b82-bdc3-b7d448b4f910"
      },
      "source": [
        "# Text normalization: Lowercasing, removing special characters, handling contractions."
      ]
    },
    {
      "cell_type": "code",
      "execution_count": null,
      "id": "a8e6e57c-1a51-4b42-90a4-8b4a4e45b2fc",
      "metadata": {
        "id": "a8e6e57c-1a51-4b42-90a4-8b4a4e45b2fc",
        "colab": {
          "base_uri": "https://localhost:8080/"
        },
        "outputId": "a05d4fcf-e54b-407e-b405-5e4a0b83b2a3"
      },
      "outputs": [
        {
          "output_type": "stream",
          "name": "stdout",
          "text": [
            "Original Text:\n",
            " I can't believe it's already 2023! Isn't this amazing? Let's clean up this text for NLP preprocessing.\n",
            "\n",
            "Normalized Text:\n",
            " i cannot believe it is already isnt this amazing lets clean up this text for nlp preprocessing\n"
          ]
        }
      ],
      "source": [
        "import re\n",
        "import string\n",
        "\n",
        "# Define a contraction mapping\n",
        "CONTRACTIONS_MAP = {\n",
        "    \"can't\": \"cannot\",\n",
        "    \"won't\": \"will not\",\n",
        "    \"isn't\": \"is not\",\n",
        "   # \"Isn't\": \"is not\",\n",
        "    \"aren't\": \"are not\",\n",
        "    \"wasn't\": \"was not\",\n",
        "    \"weren't\": \"were not\",\n",
        "    \"haven't\": \"have not\",\n",
        "    \"hasn't\": \"has not\",\n",
        "    \"hadn't\": \"had not\",\n",
        "    \"doesn't\": \"does not\",\n",
        "    \"don't\": \"do not\",\n",
        "    \"didn't\": \"did not\",\n",
        "    \"couldn't\": \"could not\",\n",
        "    \"shouldn't\": \"should not\",\n",
        "    \"wouldn't\": \"would not\",\n",
        "    \"mustn't\": \"must not\",\n",
        "    \"it's\": \"it is\",\n",
        "    \"he's\": \"he is\",\n",
        "    \"she's\": \"she is\",\n",
        "    \"that's\": \"that is\",\n",
        "    \"there's\": \"there is\",\n",
        "    \"what's\": \"what is\",\n",
        "    \"who's\": \"who is\",\n",
        "    \"let's\": \"let us\",\n",
        "    \"i'm\": \"i am\",\n",
        "    \"you're\": \"you are\",\n",
        "    \"they're\": \"they are\",\n",
        "    \"we're\": \"we are\",\n",
        "    \"i've\": \"i have\",\n",
        "    \"you've\": \"you have\",\n",
        "    \"we've\": \"we have\",\n",
        "    \"they've\": \"they have\",\n",
        "    \"i'll\": \"i will\",\n",
        "    \"you'll\": \"you will\",\n",
        "    \"he'll\": \"he will\",\n",
        "    \"she'll\": \"she will\",\n",
        "    \"we'll\": \"we will\",\n",
        "    \"they'll\": \"they will\",\n",
        "    \"isn't\": \"is not\",\n",
        "    \"wasn't\": \"was not\",\n",
        "    \"weren't\": \"were not\",\n",
        "    \"there's\": \"there is\",\n",
        "}\n",
        "\n",
        "def expand_contractions(text, contractions_map):\n",
        "    \"\"\"Expand contractions in a given text using a mapping dictionary.\"\"\"\n",
        "    for contraction, expansion in contractions_map.items():\n",
        "        text = re.sub(r\"\\b\" + re.escape(contraction) + r\"\\b\", expansion, text)\n",
        "    return text\n",
        "\n",
        "def normalize_text(text):\n",
        "    \"\"\"Normalize text: Lowercasing, removing special characters, and handling contractions.\"\"\"\n",
        "    # Step 1: Expand contractions\n",
        "    text = expand_contractions(text, CONTRACTIONS_MAP)\n",
        "\n",
        "    # Step 2: Lowercasing\n",
        "    text = text.lower()\n",
        "\n",
        "    # Step 3: Remove special characters (retain only letters and spaces)\n",
        "    text = re.sub(r\"[^a-z\\s]\", \"\", text)\n",
        "\n",
        "    # Step 4: Remove extra spaces\n",
        "    text = re.sub(r\"\\s+\", \" \", text).strip()\n",
        "\n",
        "    return text\n",
        "\n",
        "# Example text\n",
        "text = \"\"\"I can't believe it's already 2023! Isn't this amazing? Let's clean up this text for NLP preprocessing.\"\"\"\n",
        "\n",
        "# Normalize the text\n",
        "normalized_text = normalize_text(text)\n",
        "\n",
        "# Output results\n",
        "print(\"Original Text:\\n\", text)\n",
        "print(\"\\nNormalized Text:\\n\", normalized_text)\n"
      ]
    },
    {
      "cell_type": "markdown",
      "id": "57bf9ac9-93d9-4761-b5a2-9dce36efb514",
      "metadata": {
        "id": "57bf9ac9-93d9-4761-b5a2-9dce36efb514"
      },
      "source": [
        "##"
      ]
    },
    {
      "cell_type": "markdown",
      "id": "451a46b9-2c17-430e-babb-245968044fa1",
      "metadata": {
        "id": "451a46b9-2c17-430e-babb-245968044fa1"
      },
      "source": [
        "# Bag Of Word (BoW) Representation"
      ]
    },
    {
      "cell_type": "code",
      "execution_count": null,
      "id": "ac5f24cb-cfb9-4148-83d5-df7fbffe8e4c",
      "metadata": {
        "id": "ac5f24cb-cfb9-4148-83d5-df7fbffe8e4c",
        "colab": {
          "base_uri": "https://localhost:8080/"
        },
        "outputId": "c2cdd52d-3813-4fc9-b81c-cdf228a74026"
      },
      "outputs": [
        {
          "output_type": "stream",
          "name": "stdout",
          "text": [
            "Vocabulary: ['activities' 'fun' 'galle' 'is' 'love']\n",
            "\n",
            "Bag of Words Representation (Dense Matrix):\n",
            "Document 1: [0 0 1 0 1]\n",
            "Document 2: [0 1 1 1 0]\n",
            "Document 3: [1 1 0 0 1]\n"
          ]
        }
      ],
      "source": [
        "from sklearn.feature_extraction.text import CountVectorizer\n",
        "\n",
        "# Example documents go here.\n",
        "documents = [\n",
        "    \"I love Galle.\",\n",
        "    \"Galle is fun.\",\n",
        "    \"I love fun activities.\"\n",
        "]\n",
        "\n",
        "# Create an instance of CountVectorizer\n",
        "vectorizer = CountVectorizer()\n",
        "\n",
        "# Fit and transform the documents into a Bag of Words representation\n",
        "bow_matrix = vectorizer.fit_transform(documents)\n",
        "\n",
        "# Get the vocabulary (unique words)\n",
        "vocabulary = vectorizer.get_feature_names_out()\n",
        "\n",
        "# Convert the BoW matrix to a dense array for better readability\n",
        "bow_dense = bow_matrix.toarray()\n",
        "\n",
        "# Display the results\n",
        "print(\"Vocabulary:\", vocabulary)\n",
        "print(\"\\nBag of Words Representation (Dense Matrix):\")\n",
        "for i, vector in enumerate(bow_dense):\n",
        "    print(f\"Document {i+1}: {vector}\")\n"
      ]
    },
    {
      "cell_type": "markdown",
      "id": "a0913be9-d9d6-425b-98d1-e2a5771bcde0",
      "metadata": {
        "id": "a0913be9-d9d6-425b-98d1-e2a5771bcde0"
      },
      "source": [
        "#"
      ]
    },
    {
      "cell_type": "markdown",
      "id": "bef69e65-6951-4d67-aeb4-db64a8a8ba88",
      "metadata": {
        "id": "bef69e65-6951-4d67-aeb4-db64a8a8ba88"
      },
      "source": [
        "#  N-grams"
      ]
    },
    {
      "cell_type": "code",
      "execution_count": null,
      "id": "7d111235-2a1d-4b55-a69e-4bec88e34449",
      "metadata": {
        "id": "7d111235-2a1d-4b55-a69e-4bec88e34449",
        "colab": {
          "base_uri": "https://localhost:8080/"
        },
        "outputId": "ec730b8c-0beb-4b9a-dc10-7af55919c017"
      },
      "outputs": [
        {
          "output_type": "stream",
          "name": "stdout",
          "text": [
            "Bigrams: ['and machine' 'love programming' 'machine learning' 'programming and']\n",
            "Bigram Counts:\n",
            " [[1 1 1 1]]\n"
          ]
        }
      ],
      "source": [
        "from sklearn.feature_extraction.text import CountVectorizer\n",
        "\n",
        "text = [\"I love programming and machine learning\"]\n",
        "\n",
        "# Create bigrams\n",
        "vectorizer = CountVectorizer(ngram_range=(2, 2))\n",
        "bigram_matrix = vectorizer.fit_transform(text)\n",
        "\n",
        "# Display bigrams and their counts\n",
        "print(\"Bigrams:\", vectorizer.get_feature_names_out())\n",
        "print(\"Bigram Counts:\\n\", bigram_matrix.toarray())\n"
      ]
    },
    {
      "cell_type": "markdown",
      "id": "ca26cac2-cfe1-4bb4-b7d4-9528e169e08e",
      "metadata": {
        "id": "ca26cac2-cfe1-4bb4-b7d4-9528e169e08e"
      },
      "source": [
        "#"
      ]
    },
    {
      "cell_type": "markdown",
      "id": "f3daaa92-9dab-4479-b4ff-91788dc1fb4f",
      "metadata": {
        "id": "f3daaa92-9dab-4479-b4ff-91788dc1fb4f"
      },
      "source": [
        "# TF-IDF"
      ]
    },
    {
      "cell_type": "code",
      "execution_count": null,
      "id": "5e535e88-5801-4889-8c8f-550aa30d3cf8",
      "metadata": {
        "id": "5e535e88-5801-4889-8c8f-550aa30d3cf8",
        "colab": {
          "base_uri": "https://localhost:8080/"
        },
        "outputId": "ab5581e6-475f-4ced-9d57-b145d3de8aa2"
      },
      "outputs": [
        {
          "output_type": "stream",
          "name": "stdout",
          "text": [
            "Vocabulary: ['activities' 'fun' 'is' 'love' 'programming']\n",
            "TF-IDF Matrix:\n",
            " [[0.         0.         0.         0.70710678 0.70710678]\n",
            " [0.         0.51785612 0.68091856 0.         0.51785612]\n",
            " [0.88072413 0.3349067  0.         0.3349067  0.        ]]\n"
          ]
        }
      ],
      "source": [
        "from sklearn.feature_extraction.text import TfidfVectorizer\n",
        "\n",
        "# Example documents\n",
        "documents = [\n",
        "    \"I love programming .\",\n",
        "    \"Programming is fun .\",\n",
        "    \"I love fun activities activities.\"\n",
        "]\n",
        "\n",
        "# Create TF-IDF model\n",
        "vectorizer = TfidfVectorizer()\n",
        "tfidf_matrix = vectorizer.fit_transform(documents)\n",
        "\n",
        "# Display vocabulary and TF-IDF matrix\n",
        "print(\"Vocabulary:\", vectorizer.get_feature_names_out())\n",
        "print(\"TF-IDF Matrix:\\n\", tfidf_matrix.toarray())\n"
      ]
    },
    {
      "cell_type": "code",
      "execution_count": null,
      "id": "bdd84924-7334-4985-a9ec-0a8c936387ad",
      "metadata": {
        "id": "bdd84924-7334-4985-a9ec-0a8c936387ad"
      },
      "outputs": [],
      "source": []
    }
  ],
  "metadata": {
    "kernelspec": {
      "display_name": "anaconda-2024.02-py310",
      "language": "python",
      "name": "conda-env-anaconda-2024.02-py310-py"
    },
    "language_info": {
      "codemirror_mode": {
        "name": "ipython",
        "version": 3
      },
      "file_extension": ".py",
      "mimetype": "text/x-python",
      "name": "python",
      "nbconvert_exporter": "python",
      "pygments_lexer": "ipython3",
      "version": "3.10.14"
    },
    "colab": {
      "provenance": [],
      "gpuType": "T4",
      "include_colab_link": true
    },
    "accelerator": "GPU"
  },
  "nbformat": 4,
  "nbformat_minor": 5
}